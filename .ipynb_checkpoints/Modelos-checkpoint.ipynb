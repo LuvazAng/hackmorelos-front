{
 "cells": [
  {
   "cell_type": "code",
   "execution_count": 2,
   "id": "895a8af2",
   "metadata": {},
   "outputs": [],
   "source": [
    "import pandas as pd"
   ]
  },
  {
   "cell_type": "code",
   "execution_count": 126,
   "id": "7b1f755a",
   "metadata": {},
   "outputs": [],
   "source": [
    "df_brain_stroke = pd.read_csv('./brain_stroke_cleaned.csv', sep = ';')"
   ]
  },
  {
   "cell_type": "code",
   "execution_count": 127,
   "id": "c78755ca",
   "metadata": {},
   "outputs": [
    {
     "data": {
      "text/html": [
       "<div>\n",
       "<style scoped>\n",
       "    .dataframe tbody tr th:only-of-type {\n",
       "        vertical-align: middle;\n",
       "    }\n",
       "\n",
       "    .dataframe tbody tr th {\n",
       "        vertical-align: top;\n",
       "    }\n",
       "\n",
       "    .dataframe thead th {\n",
       "        text-align: right;\n",
       "    }\n",
       "</style>\n",
       "<table border=\"1\" class=\"dataframe\">\n",
       "  <thead>\n",
       "    <tr style=\"text-align: right;\">\n",
       "      <th></th>\n",
       "      <th>gender</th>\n",
       "      <th>age</th>\n",
       "      <th>bmi</th>\n",
       "      <th>smoking_status</th>\n",
       "      <th>stroke</th>\n",
       "    </tr>\n",
       "  </thead>\n",
       "  <tbody>\n",
       "    <tr>\n",
       "      <th>0</th>\n",
       "      <td>1</td>\n",
       "      <td>67</td>\n",
       "      <td>36.6</td>\n",
       "      <td>2</td>\n",
       "      <td>1</td>\n",
       "    </tr>\n",
       "    <tr>\n",
       "      <th>1</th>\n",
       "      <td>1</td>\n",
       "      <td>80</td>\n",
       "      <td>32.5</td>\n",
       "      <td>0</td>\n",
       "      <td>1</td>\n",
       "    </tr>\n",
       "    <tr>\n",
       "      <th>2</th>\n",
       "      <td>0</td>\n",
       "      <td>49</td>\n",
       "      <td>34.4</td>\n",
       "      <td>3</td>\n",
       "      <td>1</td>\n",
       "    </tr>\n",
       "    <tr>\n",
       "      <th>3</th>\n",
       "      <td>0</td>\n",
       "      <td>79</td>\n",
       "      <td>24.0</td>\n",
       "      <td>0</td>\n",
       "      <td>1</td>\n",
       "    </tr>\n",
       "    <tr>\n",
       "      <th>4</th>\n",
       "      <td>1</td>\n",
       "      <td>81</td>\n",
       "      <td>29.0</td>\n",
       "      <td>2</td>\n",
       "      <td>1</td>\n",
       "    </tr>\n",
       "  </tbody>\n",
       "</table>\n",
       "</div>"
      ],
      "text/plain": [
       "   gender  age   bmi  smoking_status  stroke\n",
       "0       1   67  36.6               2       1\n",
       "1       1   80  32.5               0       1\n",
       "2       0   49  34.4               3       1\n",
       "3       0   79  24.0               0       1\n",
       "4       1   81  29.0               2       1"
      ]
     },
     "execution_count": 127,
     "metadata": {},
     "output_type": "execute_result"
    }
   ],
   "source": [
    "df_brain_stroke.head()"
   ]
  },
  {
   "cell_type": "code",
   "execution_count": 128,
   "id": "071de13e",
   "metadata": {},
   "outputs": [],
   "source": [
    "df_cardiovascular_disease = pd.read_csv('./cardiovascular_disease_cleaned.csv')"
   ]
  },
  {
   "cell_type": "code",
   "execution_count": 129,
   "id": "0a99d84e",
   "metadata": {},
   "outputs": [
    {
     "data": {
      "text/html": [
       "<div>\n",
       "<style scoped>\n",
       "    .dataframe tbody tr th:only-of-type {\n",
       "        vertical-align: middle;\n",
       "    }\n",
       "\n",
       "    .dataframe tbody tr th {\n",
       "        vertical-align: top;\n",
       "    }\n",
       "\n",
       "    .dataframe thead th {\n",
       "        text-align: right;\n",
       "    }\n",
       "</style>\n",
       "<table border=\"1\" class=\"dataframe\">\n",
       "  <thead>\n",
       "    <tr style=\"text-align: right;\">\n",
       "      <th></th>\n",
       "      <th>age</th>\n",
       "      <th>gender</th>\n",
       "      <th>height</th>\n",
       "      <th>weight</th>\n",
       "      <th>smoke</th>\n",
       "      <th>alco</th>\n",
       "      <th>active</th>\n",
       "      <th>cardio</th>\n",
       "    </tr>\n",
       "  </thead>\n",
       "  <tbody>\n",
       "    <tr>\n",
       "      <th>0</th>\n",
       "      <td>50</td>\n",
       "      <td>1</td>\n",
       "      <td>168</td>\n",
       "      <td>62.0</td>\n",
       "      <td>0</td>\n",
       "      <td>0</td>\n",
       "      <td>1</td>\n",
       "      <td>0</td>\n",
       "    </tr>\n",
       "    <tr>\n",
       "      <th>1</th>\n",
       "      <td>55</td>\n",
       "      <td>0</td>\n",
       "      <td>156</td>\n",
       "      <td>85.0</td>\n",
       "      <td>0</td>\n",
       "      <td>0</td>\n",
       "      <td>1</td>\n",
       "      <td>1</td>\n",
       "    </tr>\n",
       "    <tr>\n",
       "      <th>2</th>\n",
       "      <td>51</td>\n",
       "      <td>0</td>\n",
       "      <td>165</td>\n",
       "      <td>64.0</td>\n",
       "      <td>0</td>\n",
       "      <td>0</td>\n",
       "      <td>0</td>\n",
       "      <td>1</td>\n",
       "    </tr>\n",
       "    <tr>\n",
       "      <th>3</th>\n",
       "      <td>48</td>\n",
       "      <td>1</td>\n",
       "      <td>169</td>\n",
       "      <td>82.0</td>\n",
       "      <td>0</td>\n",
       "      <td>0</td>\n",
       "      <td>1</td>\n",
       "      <td>1</td>\n",
       "    </tr>\n",
       "    <tr>\n",
       "      <th>4</th>\n",
       "      <td>47</td>\n",
       "      <td>0</td>\n",
       "      <td>156</td>\n",
       "      <td>56.0</td>\n",
       "      <td>0</td>\n",
       "      <td>0</td>\n",
       "      <td>0</td>\n",
       "      <td>0</td>\n",
       "    </tr>\n",
       "  </tbody>\n",
       "</table>\n",
       "</div>"
      ],
      "text/plain": [
       "   age  gender  height  weight  smoke  alco  active  cardio\n",
       "0   50       1     168    62.0      0     0       1       0\n",
       "1   55       0     156    85.0      0     0       1       1\n",
       "2   51       0     165    64.0      0     0       0       1\n",
       "3   48       1     169    82.0      0     0       1       1\n",
       "4   47       0     156    56.0      0     0       0       0"
      ]
     },
     "execution_count": 129,
     "metadata": {},
     "output_type": "execute_result"
    }
   ],
   "source": [
    "df_cardiovascular_disease.head()"
   ]
  },
  {
   "cell_type": "code",
   "execution_count": 130,
   "id": "25a6c28c",
   "metadata": {},
   "outputs": [
    {
     "data": {
      "text/html": [
       "<div>\n",
       "<style scoped>\n",
       "    .dataframe tbody tr th:only-of-type {\n",
       "        vertical-align: middle;\n",
       "    }\n",
       "\n",
       "    .dataframe tbody tr th {\n",
       "        vertical-align: top;\n",
       "    }\n",
       "\n",
       "    .dataframe thead th {\n",
       "        text-align: right;\n",
       "    }\n",
       "</style>\n",
       "<table border=\"1\" class=\"dataframe\">\n",
       "  <thead>\n",
       "    <tr style=\"text-align: right;\">\n",
       "      <th></th>\n",
       "      <th>age</th>\n",
       "      <th>gender</th>\n",
       "      <th>height</th>\n",
       "      <th>weight</th>\n",
       "      <th>smoke</th>\n",
       "      <th>alco</th>\n",
       "      <th>active</th>\n",
       "      <th>cardio</th>\n",
       "    </tr>\n",
       "  </thead>\n",
       "  <tbody>\n",
       "    <tr>\n",
       "      <th>69995</th>\n",
       "      <td>52</td>\n",
       "      <td>1</td>\n",
       "      <td>168</td>\n",
       "      <td>76.0</td>\n",
       "      <td>1</td>\n",
       "      <td>0</td>\n",
       "      <td>1</td>\n",
       "      <td>0</td>\n",
       "    </tr>\n",
       "    <tr>\n",
       "      <th>69996</th>\n",
       "      <td>61</td>\n",
       "      <td>0</td>\n",
       "      <td>158</td>\n",
       "      <td>126.0</td>\n",
       "      <td>0</td>\n",
       "      <td>0</td>\n",
       "      <td>1</td>\n",
       "      <td>1</td>\n",
       "    </tr>\n",
       "    <tr>\n",
       "      <th>69997</th>\n",
       "      <td>52</td>\n",
       "      <td>1</td>\n",
       "      <td>183</td>\n",
       "      <td>105.0</td>\n",
       "      <td>0</td>\n",
       "      <td>1</td>\n",
       "      <td>0</td>\n",
       "      <td>1</td>\n",
       "    </tr>\n",
       "    <tr>\n",
       "      <th>69998</th>\n",
       "      <td>61</td>\n",
       "      <td>0</td>\n",
       "      <td>163</td>\n",
       "      <td>72.0</td>\n",
       "      <td>0</td>\n",
       "      <td>0</td>\n",
       "      <td>0</td>\n",
       "      <td>1</td>\n",
       "    </tr>\n",
       "    <tr>\n",
       "      <th>69999</th>\n",
       "      <td>56</td>\n",
       "      <td>0</td>\n",
       "      <td>170</td>\n",
       "      <td>72.0</td>\n",
       "      <td>0</td>\n",
       "      <td>0</td>\n",
       "      <td>1</td>\n",
       "      <td>0</td>\n",
       "    </tr>\n",
       "  </tbody>\n",
       "</table>\n",
       "</div>"
      ],
      "text/plain": [
       "       age  gender  height  weight  smoke  alco  active  cardio\n",
       "69995   52       1     168    76.0      1     0       1       0\n",
       "69996   61       0     158   126.0      0     0       1       1\n",
       "69997   52       1     183   105.0      0     1       0       1\n",
       "69998   61       0     163    72.0      0     0       0       1\n",
       "69999   56       0     170    72.0      0     0       1       0"
      ]
     },
     "execution_count": 130,
     "metadata": {},
     "output_type": "execute_result"
    }
   ],
   "source": [
    "df_cardiovascular_disease.tail()"
   ]
  },
  {
   "cell_type": "code",
   "execution_count": 131,
   "id": "353d4b32",
   "metadata": {},
   "outputs": [],
   "source": [
    "df_lung_cancer = pd.read_csv('./lung_cancer_cleaned.csv')"
   ]
  },
  {
   "cell_type": "code",
   "execution_count": 132,
   "id": "518c1c9b",
   "metadata": {},
   "outputs": [
    {
     "data": {
      "text/html": [
       "<div>\n",
       "<style scoped>\n",
       "    .dataframe tbody tr th:only-of-type {\n",
       "        vertical-align: middle;\n",
       "    }\n",
       "\n",
       "    .dataframe tbody tr th {\n",
       "        vertical-align: top;\n",
       "    }\n",
       "\n",
       "    .dataframe thead th {\n",
       "        text-align: right;\n",
       "    }\n",
       "</style>\n",
       "<table border=\"1\" class=\"dataframe\">\n",
       "  <thead>\n",
       "    <tr style=\"text-align: right;\">\n",
       "      <th></th>\n",
       "      <th>GENDER</th>\n",
       "      <th>AGE</th>\n",
       "      <th>SMOKING</th>\n",
       "      <th>FATIGUE</th>\n",
       "      <th>ALLERGY</th>\n",
       "      <th>ALCOHOL CONSUMING</th>\n",
       "      <th>LUNG_CANCER</th>\n",
       "    </tr>\n",
       "  </thead>\n",
       "  <tbody>\n",
       "    <tr>\n",
       "      <th>0</th>\n",
       "      <td>1</td>\n",
       "      <td>69</td>\n",
       "      <td>0</td>\n",
       "      <td>2</td>\n",
       "      <td>1</td>\n",
       "      <td>1</td>\n",
       "      <td>1</td>\n",
       "    </tr>\n",
       "    <tr>\n",
       "      <th>1</th>\n",
       "      <td>1</td>\n",
       "      <td>74</td>\n",
       "      <td>1</td>\n",
       "      <td>2</td>\n",
       "      <td>2</td>\n",
       "      <td>0</td>\n",
       "      <td>1</td>\n",
       "    </tr>\n",
       "    <tr>\n",
       "      <th>2</th>\n",
       "      <td>0</td>\n",
       "      <td>59</td>\n",
       "      <td>0</td>\n",
       "      <td>2</td>\n",
       "      <td>1</td>\n",
       "      <td>0</td>\n",
       "      <td>0</td>\n",
       "    </tr>\n",
       "    <tr>\n",
       "      <th>3</th>\n",
       "      <td>1</td>\n",
       "      <td>63</td>\n",
       "      <td>1</td>\n",
       "      <td>1</td>\n",
       "      <td>1</td>\n",
       "      <td>1</td>\n",
       "      <td>0</td>\n",
       "    </tr>\n",
       "    <tr>\n",
       "      <th>4</th>\n",
       "      <td>0</td>\n",
       "      <td>63</td>\n",
       "      <td>0</td>\n",
       "      <td>1</td>\n",
       "      <td>1</td>\n",
       "      <td>0</td>\n",
       "      <td>0</td>\n",
       "    </tr>\n",
       "  </tbody>\n",
       "</table>\n",
       "</div>"
      ],
      "text/plain": [
       "   GENDER  AGE  SMOKING  FATIGUE   ALLERGY   ALCOHOL CONSUMING  LUNG_CANCER\n",
       "0       1   69        0         2         1                  1            1\n",
       "1       1   74        1         2         2                  0            1\n",
       "2       0   59        0         2         1                  0            0\n",
       "3       1   63        1         1         1                  1            0\n",
       "4       0   63        0         1         1                  0            0"
      ]
     },
     "execution_count": 132,
     "metadata": {},
     "output_type": "execute_result"
    }
   ],
   "source": [
    "df_lung_cancer.head()"
   ]
  },
  {
   "cell_type": "code",
   "execution_count": 133,
   "id": "df802ede",
   "metadata": {},
   "outputs": [],
   "source": [
    "df_obesity = pd.read_csv('./obesity_cleaned.csv')"
   ]
  },
  {
   "cell_type": "code",
   "execution_count": 134,
   "id": "0d5a6cf0",
   "metadata": {},
   "outputs": [
    {
     "data": {
      "text/html": [
       "<div>\n",
       "<style scoped>\n",
       "    .dataframe tbody tr th:only-of-type {\n",
       "        vertical-align: middle;\n",
       "    }\n",
       "\n",
       "    .dataframe tbody tr th {\n",
       "        vertical-align: top;\n",
       "    }\n",
       "\n",
       "    .dataframe thead th {\n",
       "        text-align: right;\n",
       "    }\n",
       "</style>\n",
       "<table border=\"1\" class=\"dataframe\">\n",
       "  <thead>\n",
       "    <tr style=\"text-align: right;\">\n",
       "      <th></th>\n",
       "      <th>Age</th>\n",
       "      <th>Gender</th>\n",
       "      <th>Height</th>\n",
       "      <th>Weight</th>\n",
       "      <th>BMI</th>\n",
       "      <th>Label</th>\n",
       "    </tr>\n",
       "  </thead>\n",
       "  <tbody>\n",
       "    <tr>\n",
       "      <th>0</th>\n",
       "      <td>25</td>\n",
       "      <td>1</td>\n",
       "      <td>175</td>\n",
       "      <td>80</td>\n",
       "      <td>25.3</td>\n",
       "      <td>1</td>\n",
       "    </tr>\n",
       "    <tr>\n",
       "      <th>1</th>\n",
       "      <td>30</td>\n",
       "      <td>0</td>\n",
       "      <td>160</td>\n",
       "      <td>60</td>\n",
       "      <td>22.5</td>\n",
       "      <td>1</td>\n",
       "    </tr>\n",
       "    <tr>\n",
       "      <th>2</th>\n",
       "      <td>35</td>\n",
       "      <td>1</td>\n",
       "      <td>180</td>\n",
       "      <td>90</td>\n",
       "      <td>27.3</td>\n",
       "      <td>2</td>\n",
       "    </tr>\n",
       "    <tr>\n",
       "      <th>3</th>\n",
       "      <td>40</td>\n",
       "      <td>0</td>\n",
       "      <td>150</td>\n",
       "      <td>50</td>\n",
       "      <td>20.0</td>\n",
       "      <td>0</td>\n",
       "    </tr>\n",
       "    <tr>\n",
       "      <th>4</th>\n",
       "      <td>45</td>\n",
       "      <td>1</td>\n",
       "      <td>190</td>\n",
       "      <td>100</td>\n",
       "      <td>31.2</td>\n",
       "      <td>3</td>\n",
       "    </tr>\n",
       "  </tbody>\n",
       "</table>\n",
       "</div>"
      ],
      "text/plain": [
       "   Age  Gender  Height  Weight   BMI  Label\n",
       "0   25       1     175      80  25.3      1\n",
       "1   30       0     160      60  22.5      1\n",
       "2   35       1     180      90  27.3      2\n",
       "3   40       0     150      50  20.0      0\n",
       "4   45       1     190     100  31.2      3"
      ]
     },
     "execution_count": 134,
     "metadata": {},
     "output_type": "execute_result"
    }
   ],
   "source": [
    "df_obesity.head()"
   ]
  },
  {
   "cell_type": "code",
   "execution_count": 135,
   "id": "1f81043d",
   "metadata": {},
   "outputs": [],
   "source": [
    "from sklearn.model_selection import train_test_split"
   ]
  },
  {
   "cell_type": "code",
   "execution_count": 136,
   "id": "96b555ea",
   "metadata": {},
   "outputs": [
    {
     "name": "stdout",
     "output_type": "stream",
     "text": [
      "(4981,) (4981, 4)\n"
     ]
    }
   ],
   "source": [
    "y_brain_stroke = df_brain_stroke['stroke']\n",
    "\n",
    "X_brain_stroke = df_brain_stroke.drop('stroke', axis = 1)\n",
    "print(y_brain_stroke.shape, X_brain_stroke.shape)"
   ]
  },
  {
   "cell_type": "code",
   "execution_count": 137,
   "id": "ea9d3ae6",
   "metadata": {},
   "outputs": [],
   "source": [
    "X_train_brain_stroke, X_test_brain_stroke, y_train_brain_stroke, y_test_brain_stroke, = train_test_split(X_brain_stroke, y_brain_stroke, test_size = 0.20, random_state = 42)"
   ]
  },
  {
   "cell_type": "code",
   "execution_count": 138,
   "id": "235e9a65",
   "metadata": {},
   "outputs": [
    {
     "name": "stdout",
     "output_type": "stream",
     "text": [
      "(70000,) (70000, 7)\n"
     ]
    }
   ],
   "source": [
    "y_cardiovascular_disease = df_cardiovascular_disease['cardio']\n",
    "\n",
    "X_cardiovascular_disease = df_cardiovascular_disease.drop('cardio', axis = 1)\n",
    "print(y_cardiovascular_disease.shape, X_cardiovascular_disease.shape)"
   ]
  },
  {
   "cell_type": "code",
   "execution_count": 139,
   "id": "5c847179",
   "metadata": {},
   "outputs": [],
   "source": [
    "X_train_cardiovascular_disease, X_test_cardiovascular_disease, y_train_cardiovascular_disease, y_test_cardiovascular_disease, = train_test_split(X_cardiovascular_disease, y_cardiovascular_disease, test_size = 0.20, random_state = 42)"
   ]
  },
  {
   "cell_type": "code",
   "execution_count": 141,
   "id": "100a4508",
   "metadata": {},
   "outputs": [
    {
     "name": "stdout",
     "output_type": "stream",
     "text": [
      "(309,) (309, 4)\n"
     ]
    }
   ],
   "source": [
    "y_lung_cancer = df_lung_cancer['LUNG_CANCER']\n",
    "\n",
    "X_lung_cancer = df_lung_cancer[['GENDER', 'SMOKING', 'ALCOHOL CONSUMING', 'LUNG_CANCER']]\n",
    "print(y_lung_cancer.shape, X_lung_cancer.shape)"
   ]
  },
  {
   "cell_type": "code",
   "execution_count": 142,
   "id": "1fd4b2a3",
   "metadata": {},
   "outputs": [],
   "source": [
    "X_train_lung_cancer, X_test_lung_cancer, y_train_lung_cancer, y_test_lung_cancer, = train_test_split(X_lung_cancer, y_lung_cancer, test_size = 0.20, random_state = 42)"
   ]
  },
  {
   "cell_type": "code",
   "execution_count": 143,
   "id": "e6cbb3f9",
   "metadata": {},
   "outputs": [
    {
     "name": "stdout",
     "output_type": "stream",
     "text": [
      "(108,) (108, 5)\n"
     ]
    }
   ],
   "source": [
    "y_obesity = df_obesity['Label']\n",
    "\n",
    "X_obesity = df_obesity.drop('Label', axis = 1)\n",
    "print(y_obesity.shape, X_obesity.shape)"
   ]
  },
  {
   "cell_type": "code",
   "execution_count": 144,
   "id": "0388655e",
   "metadata": {},
   "outputs": [],
   "source": [
    "X_train_obesity, X_test_obesity, y_train_obesity, y_test_obesity, = train_test_split(X_obesity, y_obesity, test_size = 0.20, random_state = 42)"
   ]
  },
  {
   "cell_type": "code",
   "execution_count": 145,
   "id": "048f1c63",
   "metadata": {},
   "outputs": [],
   "source": [
    "from sklearn.model_selection import cross_val_score, RandomizedSearchCV\n",
    "from sklearn.metrics import accuracy_score, confusion_matrix, f1_score\n",
    "import warnings\n",
    "warnings.filterwarnings('ignore')"
   ]
  },
  {
   "cell_type": "markdown",
   "id": "14c05641",
   "metadata": {},
   "source": [
    "## Decision Tree Classifier"
   ]
  },
  {
   "cell_type": "code",
   "execution_count": 146,
   "id": "55c18108",
   "metadata": {},
   "outputs": [],
   "source": [
    "from sklearn.tree import DecisionTreeClassifier\n",
    "\n",
    "tree = DecisionTreeClassifier()"
   ]
  },
  {
   "cell_type": "code",
   "execution_count": 147,
   "id": "6acc8374",
   "metadata": {},
   "outputs": [],
   "source": [
    "tree_params = {\n",
    "    'max_depth': [None, 1, 2, 3, 4, 5],\n",
    "    'criterion': ['gini', 'entropy'],\n",
    "    'splitter': ['best', 'random'],\n",
    "    'min_samples_split': [2, 5, 10],\n",
    "    'min_samples_leaf': [1, 2, 4],\n",
    "    'max_features': ['auto', 'sqrt', 'log2', None],\n",
    "    'class_weight': [None, 'balanced'],\n",
    "    'random_state': [42]\n",
    "}"
   ]
  },
  {
   "cell_type": "code",
   "execution_count": 148,
   "id": "16e64e5b",
   "metadata": {},
   "outputs": [
    {
     "name": "stdout",
     "output_type": "stream",
     "text": [
      "[0.48752254 0.48752254 0.40982097 0.48725843 0.4967495  0.53934707\n",
      " 0.4873244  0.56663872 0.51294593 0.55010611]\n"
     ]
    }
   ],
   "source": [
    "search_obj = RandomizedSearchCV(tree, param_distributions = tree_params, cv = 5, scoring = 'f1_macro')\n",
    "fit_obj = search_obj.fit(X_train_brain_stroke, y_train_brain_stroke)\n",
    "print(fit_obj.cv_results_['mean_test_score'])\n",
    "model_tree_brain_stroke = fit_obj.best_estimator_"
   ]
  },
  {
   "cell_type": "code",
   "execution_count": 149,
   "id": "3d1a43c0",
   "metadata": {},
   "outputs": [
    {
     "name": "stdout",
     "output_type": "stream",
     "text": [
      "Train:  0.8727409638554217\n",
      "Test:  0.8635907723169508\n"
     ]
    }
   ],
   "source": [
    "model_tree_brain_stroke.fit(X_train_brain_stroke, y_train_brain_stroke)\n",
    "print(\"Train: \", model_tree_brain_stroke.score(X_train_brain_stroke, y_train_brain_stroke))\n",
    "print(\"Test: \", model_tree_brain_stroke.score(X_test_brain_stroke, y_test_brain_stroke))"
   ]
  },
  {
   "cell_type": "code",
   "execution_count": 150,
   "id": "b35de63e",
   "metadata": {},
   "outputs": [],
   "source": [
    "y_pred_tree_brain_stroke = model_tree_brain_stroke.predict(X_test_brain_stroke)"
   ]
  },
  {
   "cell_type": "code",
   "execution_count": 151,
   "id": "047ed102",
   "metadata": {},
   "outputs": [],
   "source": [
    "accuracy = accuracy_score(y_test_brain_stroke, y_pred_tree_brain_stroke)\n",
    "conf_matrix = confusion_matrix(y_test_brain_stroke, y_pred_tree_brain_stroke)\n",
    "f1 = f1_score(y_test_brain_stroke, y_pred_tree_brain_stroke, average='weighted')"
   ]
  },
  {
   "cell_type": "code",
   "execution_count": 152,
   "id": "aab1f016",
   "metadata": {},
   "outputs": [
    {
     "name": "stdout",
     "output_type": "stream",
     "text": [
      "Accuracy: 0.8635907723169508\n",
      "F1 Score: 0.8847930169289691\n",
      "Confusion Matrix:\n",
      " [[847  96]\n",
      " [ 40  14]]\n"
     ]
    }
   ],
   "source": [
    "print(\"Accuracy:\", accuracy)\n",
    "print(\"F1 Score:\", f1)\n",
    "print(\"Confusion Matrix:\\n\", conf_matrix)"
   ]
  },
  {
   "cell_type": "code",
   "execution_count": 153,
   "id": "0d5af1a8",
   "metadata": {},
   "outputs": [
    {
     "name": "stdout",
     "output_type": "stream",
     "text": [
      "[0.46311536 0.5896756  0.55135787 0.58958605 0.55338964 0.55960274\n",
      " 0.5608426  0.50161138 0.46311536 0.54394027]\n"
     ]
    }
   ],
   "source": [
    "search_obj = RandomizedSearchCV(tree, param_distributions = tree_params, cv = 5, scoring = 'f1_macro')\n",
    "fit_obj = search_obj.fit(X_train_cardiovascular_disease, y_train_cardiovascular_disease)\n",
    "print(fit_obj.cv_results_['mean_test_score'])\n",
    "model_tree_cardiovascular_disease = fit_obj.best_estimator_"
   ]
  },
  {
   "cell_type": "code",
   "execution_count": 154,
   "id": "e9fab43b",
   "metadata": {},
   "outputs": [
    {
     "name": "stdout",
     "output_type": "stream",
     "text": [
      "Train:  0.5927142857142857\n",
      "Test:  0.5928571428571429\n"
     ]
    }
   ],
   "source": [
    "model_tree_cardiovascular_disease.fit(X_train_cardiovascular_disease, y_train_cardiovascular_disease)\n",
    "print(\"Train: \", model_tree_cardiovascular_disease.score(X_train_cardiovascular_disease, y_train_cardiovascular_disease))\n",
    "print(\"Test: \", model_tree_cardiovascular_disease.score(X_test_cardiovascular_disease, y_test_cardiovascular_disease))"
   ]
  },
  {
   "cell_type": "code",
   "execution_count": 155,
   "id": "8689aba0",
   "metadata": {},
   "outputs": [
    {
     "name": "stdout",
     "output_type": "stream",
     "text": [
      "[1.         1.         1.         1.         1.         1.\n",
      " 0.45953177 1.         1.         1.        ]\n"
     ]
    }
   ],
   "source": [
    "search_obj = RandomizedSearchCV(tree, param_distributions = tree_params, cv = 5, scoring = 'f1_macro')\n",
    "fit_obj = search_obj.fit(X_train_lung_cancer, y_train_lung_cancer)\n",
    "print(fit_obj.cv_results_['mean_test_score'])\n",
    "model_tree_lung_cancer = fit_obj.best_estimator_"
   ]
  },
  {
   "cell_type": "code",
   "execution_count": 156,
   "id": "9020be9a",
   "metadata": {},
   "outputs": [],
   "source": [
    "y_pred_tree_cardiovascular_disease = model_tree_cardiovascular_disease.predict(X_test_cardiovascular_disease)"
   ]
  },
  {
   "cell_type": "code",
   "execution_count": 157,
   "id": "ccedaccd",
   "metadata": {},
   "outputs": [],
   "source": [
    "accuracy = accuracy_score(y_test_cardiovascular_disease, y_pred_tree_cardiovascular_disease)\n",
    "conf_matrix = confusion_matrix(y_test_cardiovascular_disease, y_pred_tree_cardiovascular_disease)\n",
    "f1 = f1_score(y_test_cardiovascular_disease, y_pred_tree_cardiovascular_disease, average='weighted')"
   ]
  },
  {
   "cell_type": "code",
   "execution_count": 158,
   "id": "a07d534d",
   "metadata": {},
   "outputs": [
    {
     "name": "stdout",
     "output_type": "stream",
     "text": [
      "Accuracy: 0.5928571428571429\n",
      "F1 Score: 0.59001397357275\n",
      "Confusion Matrix:\n",
      " [[4727 2261]\n",
      " [3439 3573]]\n"
     ]
    }
   ],
   "source": [
    "print(\"Accuracy:\", accuracy)\n",
    "print(\"F1 Score:\", f1)\n",
    "print(\"Confusion Matrix:\\n\", conf_matrix)"
   ]
  },
  {
   "cell_type": "code",
   "execution_count": 159,
   "id": "1a120e25",
   "metadata": {},
   "outputs": [
    {
     "name": "stdout",
     "output_type": "stream",
     "text": [
      "Train:  1.0\n",
      "Test:  1.0\n"
     ]
    }
   ],
   "source": [
    "model_tree_lung_cancer.fit(X_train_lung_cancer, y_train_lung_cancer)\n",
    "print(\"Train: \", model_tree_lung_cancer.score(X_train_lung_cancer, y_train_lung_cancer))\n",
    "print(\"Test: \", model_tree_lung_cancer.score(X_test_lung_cancer, y_test_lung_cancer))"
   ]
  },
  {
   "cell_type": "code",
   "execution_count": 160,
   "id": "9afd23ef",
   "metadata": {},
   "outputs": [],
   "source": [
    "y_pred_tree_lung_cancer = model_tree_lung_cancer.predict(X_test_lung_cancer)"
   ]
  },
  {
   "cell_type": "code",
   "execution_count": 161,
   "id": "5c93db53",
   "metadata": {},
   "outputs": [],
   "source": [
    "accuracy = accuracy_score(y_test_lung_cancer, y_pred_tree_lung_cancer)\n",
    "conf_matrix = confusion_matrix(y_test_lung_cancer, y_pred_tree_lung_cancer)\n",
    "f1 = f1_score(y_test_lung_cancer, y_pred_tree_lung_cancer, average='weighted')"
   ]
  },
  {
   "cell_type": "code",
   "execution_count": 162,
   "id": "82c48476",
   "metadata": {},
   "outputs": [
    {
     "name": "stdout",
     "output_type": "stream",
     "text": [
      "Accuracy: 1.0\n",
      "F1 Score: 1.0\n",
      "Confusion Matrix:\n",
      " [[ 2  0]\n",
      " [ 0 60]]\n"
     ]
    }
   ],
   "source": [
    "print(\"Accuracy:\", accuracy)\n",
    "print(\"F1 Score:\", f1)\n",
    "print(\"Confusion Matrix:\\n\", conf_matrix)"
   ]
  },
  {
   "cell_type": "code",
   "execution_count": 163,
   "id": "4f9f4c95",
   "metadata": {},
   "outputs": [
    {
     "name": "stdout",
     "output_type": "stream",
     "text": [
      "[0.93230159 0.93230159 0.93230159 0.50356074 0.93230159 0.92517677\n",
      " 0.73018232 0.84706349 0.29463203 0.50356074]\n"
     ]
    }
   ],
   "source": [
    "search_obj = RandomizedSearchCV(tree, param_distributions = tree_params, cv = 5, scoring = 'f1_macro')\n",
    "fit_obj = search_obj.fit(X_train_obesity, y_train_obesity)\n",
    "print(fit_obj.cv_results_['mean_test_score'])\n",
    "model_tree_obesity = fit_obj.best_estimator_"
   ]
  },
  {
   "cell_type": "code",
   "execution_count": 164,
   "id": "c0af48ea",
   "metadata": {},
   "outputs": [
    {
     "name": "stdout",
     "output_type": "stream",
     "text": [
      "Train:  0.9767441860465116\n",
      "Test:  0.9090909090909091\n"
     ]
    }
   ],
   "source": [
    "model_tree_obesity.fit(X_train_obesity, y_train_obesity)\n",
    "print(\"Train: \", model_tree_obesity.score(X_train_obesity, y_train_obesity))\n",
    "print(\"Test: \", model_tree_obesity.score(X_test_obesity, y_test_obesity))"
   ]
  },
  {
   "cell_type": "code",
   "execution_count": 165,
   "id": "066db260",
   "metadata": {},
   "outputs": [],
   "source": [
    "y_pred_tree_obesity = model_tree_obesity.predict(X_test_obesity)"
   ]
  },
  {
   "cell_type": "code",
   "execution_count": 166,
   "id": "4658ba0e",
   "metadata": {},
   "outputs": [],
   "source": [
    "accuracy = accuracy_score(y_test_obesity, y_pred_tree_obesity)\n",
    "conf_matrix = confusion_matrix(y_test_obesity, y_pred_tree_obesity)\n",
    "f1 = f1_score(y_test_obesity, y_pred_tree_obesity, average='weighted')"
   ]
  },
  {
   "cell_type": "code",
   "execution_count": 167,
   "id": "ceaff664",
   "metadata": {},
   "outputs": [
    {
     "name": "stdout",
     "output_type": "stream",
     "text": [
      "Accuracy: 0.9090909090909091\n",
      "F1 Score: 0.9090909090909091\n",
      "Confusion Matrix:\n",
      " [[8 0 0 0]\n",
      " [0 4 2 0]\n",
      " [0 0 4 0]\n",
      " [0 0 0 4]]\n"
     ]
    }
   ],
   "source": [
    "print(\"Accuracy:\", accuracy)\n",
    "print(\"F1 Score:\", f1)\n",
    "print(\"Confusion Matrix:\\n\", conf_matrix)"
   ]
  },
  {
   "cell_type": "markdown",
   "id": "3a7e1971",
   "metadata": {},
   "source": [
    "## Random Forest"
   ]
  },
  {
   "cell_type": "code",
   "execution_count": 168,
   "id": "f0580ee8",
   "metadata": {},
   "outputs": [],
   "source": [
    "from sklearn.ensemble import RandomForestClassifier\n",
    "\n",
    "random_forest = RandomForestClassifier()"
   ]
  },
  {
   "cell_type": "code",
   "execution_count": 169,
   "id": "56733471",
   "metadata": {},
   "outputs": [],
   "source": [
    "random_forest_params = {\n",
    "    'n_estimators': [50, 100, 200, 300],\n",
    "    'criterion': ['gini', 'entropy'],\n",
    "    'max_depth': [None, 10, 20, 30],\n",
    "    'min_samples_split': [2, 5, 10],\n",
    "    'min_samples_leaf': [1, 2, 4],\n",
    "    'max_features': ['auto', 'sqrt', 'log2'],\n",
    "    'bootstrap': [True, False],\n",
    "    'class_weight': [None, 'balanced'],\n",
    "    'random_state': [42]\n",
    "}"
   ]
  },
  {
   "cell_type": "code",
   "execution_count": 170,
   "id": "9e30d12d",
   "metadata": {},
   "outputs": [
    {
     "name": "stdout",
     "output_type": "stream",
     "text": [
      "[0.49682603 0.50142377 0.50859335 0.53567838 0.5664929  0.49900174\n",
      " 0.57275362 0.49082471 0.55201453 0.49801276]\n"
     ]
    }
   ],
   "source": [
    "search_obj = RandomizedSearchCV(random_forest, param_distributions = random_forest_params, cv = 5, scoring = 'f1_macro')\n",
    "fit_obj = search_obj.fit(X_train_brain_stroke, y_train_brain_stroke)\n",
    "print(fit_obj.cv_results_['mean_test_score'])\n",
    "model_random_forest_brain_stroke = fit_obj.best_estimator_"
   ]
  },
  {
   "cell_type": "code",
   "execution_count": 171,
   "id": "606ddabb",
   "metadata": {},
   "outputs": [
    {
     "name": "stdout",
     "output_type": "stream",
     "text": [
      "Train:  0.9317269076305221\n",
      "Test:  0.8846539618856569\n"
     ]
    }
   ],
   "source": [
    "model_random_forest_brain_stroke.fit(X_train_brain_stroke, y_train_brain_stroke)\n",
    "print(\"Train: \", model_random_forest_brain_stroke.score(X_train_brain_stroke, y_train_brain_stroke))\n",
    "print(\"Test: \", model_random_forest_brain_stroke.score(X_test_brain_stroke, y_test_brain_stroke))"
   ]
  },
  {
   "cell_type": "code",
   "execution_count": 172,
   "id": "31a8bb13",
   "metadata": {},
   "outputs": [],
   "source": [
    "y_pred_random_forest_brain_stroke = model_random_forest_brain_stroke.predict(X_test_brain_stroke)"
   ]
  },
  {
   "cell_type": "code",
   "execution_count": 173,
   "id": "c9c3937d",
   "metadata": {},
   "outputs": [],
   "source": [
    "accuracy = accuracy_score(y_test_brain_stroke, y_pred_random_forest_brain_stroke)\n",
    "conf_matrix = confusion_matrix(y_test_brain_stroke, y_pred_random_forest_brain_stroke)\n",
    "f1 = f1_score(y_test_brain_stroke, y_pred_random_forest_brain_stroke, average='weighted')"
   ]
  },
  {
   "cell_type": "code",
   "execution_count": 174,
   "id": "67ef8c64",
   "metadata": {},
   "outputs": [
    {
     "name": "stdout",
     "output_type": "stream",
     "text": [
      "Accuracy: 0.8846539618856569\n",
      "F1 Score: 0.899242096161714\n",
      "Confusion Matrix:\n",
      " [[865  78]\n",
      " [ 37  17]]\n"
     ]
    }
   ],
   "source": [
    "print(\"Accuracy:\", accuracy)\n",
    "print(\"F1 Score:\", f1)\n",
    "print(\"Confusion Matrix:\\n\", conf_matrix)"
   ]
  },
  {
   "cell_type": "code",
   "execution_count": 175,
   "id": "43deeec2",
   "metadata": {},
   "outputs": [
    {
     "name": "stdout",
     "output_type": "stream",
     "text": [
      "[0.59214249 0.5998741  0.58087729 0.58263381 0.59729741 0.58367983\n",
      " 0.622007   0.59719614 0.59679656 0.62092543]\n"
     ]
    }
   ],
   "source": [
    "search_obj = RandomizedSearchCV(random_forest, param_distributions = random_forest_params, cv = 5, scoring = 'f1_macro')\n",
    "fit_obj = search_obj.fit(X_train_cardiovascular_disease, y_train_cardiovascular_disease)\n",
    "print(fit_obj.cv_results_['mean_test_score'])\n",
    "model_random_forest_cardiovascular_disease = fit_obj.best_estimator_"
   ]
  },
  {
   "cell_type": "code",
   "execution_count": 176,
   "id": "1051eb1e",
   "metadata": {},
   "outputs": [
    {
     "name": "stdout",
     "output_type": "stream",
     "text": [
      "Train:  0.6472321428571428\n",
      "Test:  0.6301428571428571\n"
     ]
    }
   ],
   "source": [
    "model_random_forest_cardiovascular_disease.fit(X_train_cardiovascular_disease, y_train_cardiovascular_disease)\n",
    "print(\"Train: \", model_random_forest_cardiovascular_disease.score(X_train_cardiovascular_disease, y_train_cardiovascular_disease))\n",
    "print(\"Test: \", model_random_forest_cardiovascular_disease.score(X_test_cardiovascular_disease, y_test_cardiovascular_disease))"
   ]
  },
  {
   "cell_type": "code",
   "execution_count": 177,
   "id": "0ee569ba",
   "metadata": {},
   "outputs": [],
   "source": [
    "y_pred_random_forest_cardiovascular_disease = model_random_forest_cardiovascular_disease.predict(X_test_cardiovascular_disease)"
   ]
  },
  {
   "cell_type": "code",
   "execution_count": 178,
   "id": "d3c64b76",
   "metadata": {},
   "outputs": [],
   "source": [
    "accuracy = accuracy_score(y_test_cardiovascular_disease, y_pred_random_forest_cardiovascular_disease)\n",
    "conf_matrix = confusion_matrix(y_test_cardiovascular_disease, y_pred_random_forest_cardiovascular_disease)\n",
    "f1 = f1_score(y_test_cardiovascular_disease, y_pred_random_forest_cardiovascular_disease, average='weighted')"
   ]
  },
  {
   "cell_type": "code",
   "execution_count": 179,
   "id": "738966b2",
   "metadata": {},
   "outputs": [
    {
     "name": "stdout",
     "output_type": "stream",
     "text": [
      "Accuracy: 0.6301428571428571\n",
      "F1 Score: 0.6299732122584685\n",
      "Confusion Matrix:\n",
      " [[4255 2733]\n",
      " [2445 4567]]\n"
     ]
    }
   ],
   "source": [
    "print(\"Accuracy:\", accuracy)\n",
    "print(\"F1 Score:\", f1)\n",
    "print(\"Confusion Matrix:\\n\", conf_matrix)"
   ]
  },
  {
   "cell_type": "code",
   "execution_count": 180,
   "id": "9b1aaa32",
   "metadata": {},
   "outputs": [
    {
     "name": "stdout",
     "output_type": "stream",
     "text": [
      "[1. 1. 1. 1. 1. 1. 1. 1. 1. 1.]\n"
     ]
    }
   ],
   "source": [
    "search_obj = RandomizedSearchCV(random_forest, param_distributions = random_forest_params, cv = 5, scoring = 'f1_macro')\n",
    "fit_obj = search_obj.fit(X_train_lung_cancer, y_train_lung_cancer)\n",
    "print(fit_obj.cv_results_['mean_test_score'])\n",
    "model_random_forest_lung_cancer = fit_obj.best_estimator_"
   ]
  },
  {
   "cell_type": "code",
   "execution_count": 181,
   "id": "2f6d5f0a",
   "metadata": {},
   "outputs": [
    {
     "name": "stdout",
     "output_type": "stream",
     "text": [
      "Train:  1.0\n",
      "Test:  1.0\n"
     ]
    }
   ],
   "source": [
    "model_random_forest_lung_cancer.fit(X_train_lung_cancer, y_train_lung_cancer)\n",
    "print(\"Train: \", model_random_forest_lung_cancer.score(X_train_lung_cancer, y_train_lung_cancer))\n",
    "print(\"Test: \", model_random_forest_lung_cancer.score(X_test_lung_cancer, y_test_lung_cancer))"
   ]
  },
  {
   "cell_type": "code",
   "execution_count": 182,
   "id": "ce49d130",
   "metadata": {},
   "outputs": [],
   "source": [
    "y_pred_random_forest_lung_cancer = model_random_forest_lung_cancer.predict(X_test_lung_cancer)"
   ]
  },
  {
   "cell_type": "code",
   "execution_count": 183,
   "id": "3a8934ab",
   "metadata": {},
   "outputs": [],
   "source": [
    "accuracy = accuracy_score(y_test_lung_cancer, y_pred_random_forest_lung_cancer)\n",
    "conf_matrix = confusion_matrix(y_test_lung_cancer, y_pred_random_forest_lung_cancer)\n",
    "f1 = f1_score(y_test_lung_cancer, y_pred_random_forest_lung_cancer, average='weighted')"
   ]
  },
  {
   "cell_type": "code",
   "execution_count": 184,
   "id": "ce1588a6",
   "metadata": {},
   "outputs": [
    {
     "name": "stdout",
     "output_type": "stream",
     "text": [
      "Accuracy: 1.0\n",
      "F1 Score: 1.0\n",
      "Confusion Matrix:\n",
      " [[ 2  0]\n",
      " [ 0 60]]\n"
     ]
    }
   ],
   "source": [
    "print(\"Accuracy:\", accuracy)\n",
    "print(\"F1 Score:\", f1)\n",
    "print(\"Confusion Matrix:\\n\", conf_matrix)"
   ]
  },
  {
   "cell_type": "code",
   "execution_count": 185,
   "id": "f9e985a9",
   "metadata": {},
   "outputs": [
    {
     "name": "stdout",
     "output_type": "stream",
     "text": [
      "[0.92849206 0.92849206 0.95230159 0.92849206 0.95230159 0.92849206\n",
      " 0.95230159 0.92849206 0.92849206 0.92849206]\n"
     ]
    }
   ],
   "source": [
    "search_obj = RandomizedSearchCV(random_forest, param_distributions = random_forest_params, cv = 5, scoring = 'f1_macro')\n",
    "fit_obj = search_obj.fit(X_train_obesity, y_train_obesity)\n",
    "print(fit_obj.cv_results_['mean_test_score'])\n",
    "model_random_forest_obesity = fit_obj.best_estimator_"
   ]
  },
  {
   "cell_type": "code",
   "execution_count": 186,
   "id": "9555be4d",
   "metadata": {},
   "outputs": [
    {
     "name": "stdout",
     "output_type": "stream",
     "text": [
      "Train:  0.9883720930232558\n",
      "Test:  0.9090909090909091\n"
     ]
    }
   ],
   "source": [
    "model_random_forest_obesity.fit(X_train_obesity, y_train_obesity)\n",
    "print(\"Train: \", model_random_forest_obesity.score(X_train_obesity, y_train_obesity))\n",
    "print(\"Test: \", model_random_forest_obesity.score(X_test_obesity, y_test_obesity))"
   ]
  },
  {
   "cell_type": "code",
   "execution_count": 187,
   "id": "71152b81",
   "metadata": {},
   "outputs": [],
   "source": [
    "y_pred_random_forest_obesity = model_random_forest_obesity.predict(X_test_obesity)"
   ]
  },
  {
   "cell_type": "code",
   "execution_count": 188,
   "id": "615d64ad",
   "metadata": {},
   "outputs": [],
   "source": [
    "accuracy = accuracy_score(y_test_obesity, y_pred_random_forest_obesity)\n",
    "conf_matrix = confusion_matrix(y_test_obesity, y_pred_random_forest_obesity)\n",
    "f1 = f1_score(y_test_obesity, y_pred_random_forest_obesity, average='weighted')"
   ]
  },
  {
   "cell_type": "code",
   "execution_count": 189,
   "id": "4eeec1a7",
   "metadata": {},
   "outputs": [
    {
     "name": "stdout",
     "output_type": "stream",
     "text": [
      "Accuracy: 0.9090909090909091\n",
      "F1 Score: 0.9090909090909091\n",
      "Confusion Matrix:\n",
      " [[8 0 0 0]\n",
      " [0 4 2 0]\n",
      " [0 0 4 0]\n",
      " [0 0 0 4]]\n"
     ]
    }
   ],
   "source": [
    "print(\"Accuracy:\", accuracy)\n",
    "print(\"F1 Score:\", f1)\n",
    "print(\"Confusion Matrix:\\n\", conf_matrix)"
   ]
  },
  {
   "cell_type": "code",
   "execution_count": 209,
   "id": "b8aae63c",
   "metadata": {},
   "outputs": [],
   "source": [
    "import joblib"
   ]
  },
  {
   "cell_type": "code",
   "execution_count": 210,
   "id": "63fed7b5",
   "metadata": {},
   "outputs": [
    {
     "data": {
      "text/plain": [
       "['brain_stroke.pkl']"
      ]
     },
     "execution_count": 210,
     "metadata": {},
     "output_type": "execute_result"
    }
   ],
   "source": [
    "brain_stroke_file = 'brain_stroke.pkl'\n",
    "joblib.dump(model_random_forest_brain_stroke, brain_stroke_file)"
   ]
  },
  {
   "cell_type": "code",
   "execution_count": 211,
   "id": "75cf6b1e",
   "metadata": {},
   "outputs": [
    {
     "data": {
      "text/plain": [
       "['cardiovascular_disease.pkl']"
      ]
     },
     "execution_count": 211,
     "metadata": {},
     "output_type": "execute_result"
    }
   ],
   "source": [
    "cardiovascular_disease_file = 'cardiovascular_disease.pkl'\n",
    "joblib.dump(model_random_forest_cardiovascular_disease, cardiovascular_disease_file)"
   ]
  },
  {
   "cell_type": "code",
   "execution_count": 212,
   "id": "e7fc78af",
   "metadata": {},
   "outputs": [
    {
     "data": {
      "text/plain": [
       "['lung_cancer.pkl']"
      ]
     },
     "execution_count": 212,
     "metadata": {},
     "output_type": "execute_result"
    }
   ],
   "source": [
    "lung_cancer_file = 'lung_cancer.pkl'\n",
    "joblib.dump(model_random_forest_lung_cancer, lung_cancer_file)"
   ]
  },
  {
   "cell_type": "code",
   "execution_count": 213,
   "id": "2c12493d",
   "metadata": {},
   "outputs": [
    {
     "data": {
      "text/plain": [
       "['obesity.pkl']"
      ]
     },
     "execution_count": 213,
     "metadata": {},
     "output_type": "execute_result"
    }
   ],
   "source": [
    "obesity_file = 'obesity.pkl'\n",
    "joblib.dump(model_tree_obesity, obesity_file)"
   ]
  },
  {
   "cell_type": "code",
   "execution_count": null,
   "id": "af945786",
   "metadata": {},
   "outputs": [],
   "source": []
  }
 ],
 "metadata": {
  "kernelspec": {
   "display_name": "Python 3 (ipykernel)",
   "language": "python",
   "name": "python3"
  },
  "language_info": {
   "codemirror_mode": {
    "name": "ipython",
    "version": 3
   },
   "file_extension": ".py",
   "mimetype": "text/x-python",
   "name": "python",
   "nbconvert_exporter": "python",
   "pygments_lexer": "ipython3",
   "version": "3.11.7"
  }
 },
 "nbformat": 4,
 "nbformat_minor": 5
}
