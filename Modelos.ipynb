{
 "cells": [
  {
   "cell_type": "code",
   "execution_count": 2,
   "id": "cbc4d662",
   "metadata": {},
   "outputs": [],
   "source": [
    "import pandas as pd"
   ]
  },
  {
   "cell_type": "code",
   "execution_count": 3,
   "id": "6536906d",
   "metadata": {},
   "outputs": [],
   "source": [
    "df_brain_stroke = pd.read_csv('./brain_stroke_cleaned.csv', sep = ';')"
   ]
  },
  {
   "cell_type": "code",
   "execution_count": 4,
   "id": "1a3855d1",
   "metadata": {},
   "outputs": [
    {
     "data": {
      "text/html": [
       "<div>\n",
       "<style scoped>\n",
       "    .dataframe tbody tr th:only-of-type {\n",
       "        vertical-align: middle;\n",
       "    }\n",
       "\n",
       "    .dataframe tbody tr th {\n",
       "        vertical-align: top;\n",
       "    }\n",
       "\n",
       "    .dataframe thead th {\n",
       "        text-align: right;\n",
       "    }\n",
       "</style>\n",
       "<table border=\"1\" class=\"dataframe\">\n",
       "  <thead>\n",
       "    <tr style=\"text-align: right;\">\n",
       "      <th></th>\n",
       "      <th>gender</th>\n",
       "      <th>age</th>\n",
       "      <th>bmi</th>\n",
       "      <th>smoking_status</th>\n",
       "      <th>stroke</th>\n",
       "    </tr>\n",
       "  </thead>\n",
       "  <tbody>\n",
       "    <tr>\n",
       "      <th>0</th>\n",
       "      <td>1</td>\n",
       "      <td>67</td>\n",
       "      <td>36.6</td>\n",
       "      <td>2</td>\n",
       "      <td>1</td>\n",
       "    </tr>\n",
       "    <tr>\n",
       "      <th>1</th>\n",
       "      <td>1</td>\n",
       "      <td>80</td>\n",
       "      <td>32.5</td>\n",
       "      <td>0</td>\n",
       "      <td>1</td>\n",
       "    </tr>\n",
       "    <tr>\n",
       "      <th>2</th>\n",
       "      <td>0</td>\n",
       "      <td>49</td>\n",
       "      <td>34.4</td>\n",
       "      <td>3</td>\n",
       "      <td>1</td>\n",
       "    </tr>\n",
       "    <tr>\n",
       "      <th>3</th>\n",
       "      <td>0</td>\n",
       "      <td>79</td>\n",
       "      <td>24.0</td>\n",
       "      <td>0</td>\n",
       "      <td>1</td>\n",
       "    </tr>\n",
       "    <tr>\n",
       "      <th>4</th>\n",
       "      <td>1</td>\n",
       "      <td>81</td>\n",
       "      <td>29.0</td>\n",
       "      <td>2</td>\n",
       "      <td>1</td>\n",
       "    </tr>\n",
       "  </tbody>\n",
       "</table>\n",
       "</div>"
      ],
      "text/plain": [
       "   gender  age   bmi  smoking_status  stroke\n",
       "0       1   67  36.6               2       1\n",
       "1       1   80  32.5               0       1\n",
       "2       0   49  34.4               3       1\n",
       "3       0   79  24.0               0       1\n",
       "4       1   81  29.0               2       1"
      ]
     },
     "execution_count": 4,
     "metadata": {},
     "output_type": "execute_result"
    }
   ],
   "source": [
    "df_brain_stroke.head()"
   ]
  },
  {
   "cell_type": "code",
   "execution_count": 5,
   "id": "5dd03214",
   "metadata": {},
   "outputs": [],
   "source": [
    "df_cardiovascular_disease = pd.read_csv('./cardiovascular_disease_cleaned.csv')"
   ]
  },
  {
   "cell_type": "code",
   "execution_count": 6,
   "id": "15e7005a",
   "metadata": {},
   "outputs": [
    {
     "data": {
      "text/html": [
       "<div>\n",
       "<style scoped>\n",
       "    .dataframe tbody tr th:only-of-type {\n",
       "        vertical-align: middle;\n",
       "    }\n",
       "\n",
       "    .dataframe tbody tr th {\n",
       "        vertical-align: top;\n",
       "    }\n",
       "\n",
       "    .dataframe thead th {\n",
       "        text-align: right;\n",
       "    }\n",
       "</style>\n",
       "<table border=\"1\" class=\"dataframe\">\n",
       "  <thead>\n",
       "    <tr style=\"text-align: right;\">\n",
       "      <th></th>\n",
       "      <th>age</th>\n",
       "      <th>gender</th>\n",
       "      <th>height</th>\n",
       "      <th>weight</th>\n",
       "      <th>smoke</th>\n",
       "      <th>alco</th>\n",
       "      <th>active</th>\n",
       "      <th>cardio</th>\n",
       "    </tr>\n",
       "  </thead>\n",
       "  <tbody>\n",
       "    <tr>\n",
       "      <th>0</th>\n",
       "      <td>50</td>\n",
       "      <td>1</td>\n",
       "      <td>168</td>\n",
       "      <td>62.0</td>\n",
       "      <td>0</td>\n",
       "      <td>0</td>\n",
       "      <td>1</td>\n",
       "      <td>0</td>\n",
       "    </tr>\n",
       "    <tr>\n",
       "      <th>1</th>\n",
       "      <td>55</td>\n",
       "      <td>0</td>\n",
       "      <td>156</td>\n",
       "      <td>85.0</td>\n",
       "      <td>0</td>\n",
       "      <td>0</td>\n",
       "      <td>1</td>\n",
       "      <td>1</td>\n",
       "    </tr>\n",
       "    <tr>\n",
       "      <th>2</th>\n",
       "      <td>51</td>\n",
       "      <td>0</td>\n",
       "      <td>165</td>\n",
       "      <td>64.0</td>\n",
       "      <td>0</td>\n",
       "      <td>0</td>\n",
       "      <td>0</td>\n",
       "      <td>1</td>\n",
       "    </tr>\n",
       "    <tr>\n",
       "      <th>3</th>\n",
       "      <td>48</td>\n",
       "      <td>1</td>\n",
       "      <td>169</td>\n",
       "      <td>82.0</td>\n",
       "      <td>0</td>\n",
       "      <td>0</td>\n",
       "      <td>1</td>\n",
       "      <td>1</td>\n",
       "    </tr>\n",
       "    <tr>\n",
       "      <th>4</th>\n",
       "      <td>47</td>\n",
       "      <td>0</td>\n",
       "      <td>156</td>\n",
       "      <td>56.0</td>\n",
       "      <td>0</td>\n",
       "      <td>0</td>\n",
       "      <td>0</td>\n",
       "      <td>0</td>\n",
       "    </tr>\n",
       "  </tbody>\n",
       "</table>\n",
       "</div>"
      ],
      "text/plain": [
       "   age  gender  height  weight  smoke  alco  active  cardio\n",
       "0   50       1     168    62.0      0     0       1       0\n",
       "1   55       0     156    85.0      0     0       1       1\n",
       "2   51       0     165    64.0      0     0       0       1\n",
       "3   48       1     169    82.0      0     0       1       1\n",
       "4   47       0     156    56.0      0     0       0       0"
      ]
     },
     "execution_count": 6,
     "metadata": {},
     "output_type": "execute_result"
    }
   ],
   "source": [
    "df_cardiovascular_disease.head()"
   ]
  },
  {
   "cell_type": "code",
   "execution_count": 7,
   "id": "b5fff9a4",
   "metadata": {},
   "outputs": [
    {
     "data": {
      "text/html": [
       "<div>\n",
       "<style scoped>\n",
       "    .dataframe tbody tr th:only-of-type {\n",
       "        vertical-align: middle;\n",
       "    }\n",
       "\n",
       "    .dataframe tbody tr th {\n",
       "        vertical-align: top;\n",
       "    }\n",
       "\n",
       "    .dataframe thead th {\n",
       "        text-align: right;\n",
       "    }\n",
       "</style>\n",
       "<table border=\"1\" class=\"dataframe\">\n",
       "  <thead>\n",
       "    <tr style=\"text-align: right;\">\n",
       "      <th></th>\n",
       "      <th>age</th>\n",
       "      <th>gender</th>\n",
       "      <th>height</th>\n",
       "      <th>weight</th>\n",
       "      <th>smoke</th>\n",
       "      <th>alco</th>\n",
       "      <th>active</th>\n",
       "      <th>cardio</th>\n",
       "    </tr>\n",
       "  </thead>\n",
       "  <tbody>\n",
       "    <tr>\n",
       "      <th>69995</th>\n",
       "      <td>52</td>\n",
       "      <td>1</td>\n",
       "      <td>168</td>\n",
       "      <td>76.0</td>\n",
       "      <td>1</td>\n",
       "      <td>0</td>\n",
       "      <td>1</td>\n",
       "      <td>0</td>\n",
       "    </tr>\n",
       "    <tr>\n",
       "      <th>69996</th>\n",
       "      <td>61</td>\n",
       "      <td>0</td>\n",
       "      <td>158</td>\n",
       "      <td>126.0</td>\n",
       "      <td>0</td>\n",
       "      <td>0</td>\n",
       "      <td>1</td>\n",
       "      <td>1</td>\n",
       "    </tr>\n",
       "    <tr>\n",
       "      <th>69997</th>\n",
       "      <td>52</td>\n",
       "      <td>1</td>\n",
       "      <td>183</td>\n",
       "      <td>105.0</td>\n",
       "      <td>0</td>\n",
       "      <td>1</td>\n",
       "      <td>0</td>\n",
       "      <td>1</td>\n",
       "    </tr>\n",
       "    <tr>\n",
       "      <th>69998</th>\n",
       "      <td>61</td>\n",
       "      <td>0</td>\n",
       "      <td>163</td>\n",
       "      <td>72.0</td>\n",
       "      <td>0</td>\n",
       "      <td>0</td>\n",
       "      <td>0</td>\n",
       "      <td>1</td>\n",
       "    </tr>\n",
       "    <tr>\n",
       "      <th>69999</th>\n",
       "      <td>56</td>\n",
       "      <td>0</td>\n",
       "      <td>170</td>\n",
       "      <td>72.0</td>\n",
       "      <td>0</td>\n",
       "      <td>0</td>\n",
       "      <td>1</td>\n",
       "      <td>0</td>\n",
       "    </tr>\n",
       "  </tbody>\n",
       "</table>\n",
       "</div>"
      ],
      "text/plain": [
       "       age  gender  height  weight  smoke  alco  active  cardio\n",
       "69995   52       1     168    76.0      1     0       1       0\n",
       "69996   61       0     158   126.0      0     0       1       1\n",
       "69997   52       1     183   105.0      0     1       0       1\n",
       "69998   61       0     163    72.0      0     0       0       1\n",
       "69999   56       0     170    72.0      0     0       1       0"
      ]
     },
     "execution_count": 7,
     "metadata": {},
     "output_type": "execute_result"
    }
   ],
   "source": [
    "df_cardiovascular_disease.tail()"
   ]
  },
  {
   "cell_type": "code",
   "execution_count": 8,
   "id": "e837c27b",
   "metadata": {},
   "outputs": [],
   "source": [
    "df_lung_cancer = pd.read_csv('./lung_cancer_cleaned.csv')"
   ]
  },
  {
   "cell_type": "code",
   "execution_count": 9,
   "id": "59a5f5be",
   "metadata": {},
   "outputs": [
    {
     "data": {
      "text/html": [
       "<div>\n",
       "<style scoped>\n",
       "    .dataframe tbody tr th:only-of-type {\n",
       "        vertical-align: middle;\n",
       "    }\n",
       "\n",
       "    .dataframe tbody tr th {\n",
       "        vertical-align: top;\n",
       "    }\n",
       "\n",
       "    .dataframe thead th {\n",
       "        text-align: right;\n",
       "    }\n",
       "</style>\n",
       "<table border=\"1\" class=\"dataframe\">\n",
       "  <thead>\n",
       "    <tr style=\"text-align: right;\">\n",
       "      <th></th>\n",
       "      <th>GENDER</th>\n",
       "      <th>AGE</th>\n",
       "      <th>SMOKING</th>\n",
       "      <th>FATIGUE</th>\n",
       "      <th>ALLERGY</th>\n",
       "      <th>ALCOHOL CONSUMING</th>\n",
       "      <th>LUNG_CANCER</th>\n",
       "    </tr>\n",
       "  </thead>\n",
       "  <tbody>\n",
       "    <tr>\n",
       "      <th>0</th>\n",
       "      <td>1</td>\n",
       "      <td>69</td>\n",
       "      <td>0</td>\n",
       "      <td>2</td>\n",
       "      <td>1</td>\n",
       "      <td>1</td>\n",
       "      <td>1</td>\n",
       "    </tr>\n",
       "    <tr>\n",
       "      <th>1</th>\n",
       "      <td>1</td>\n",
       "      <td>74</td>\n",
       "      <td>1</td>\n",
       "      <td>2</td>\n",
       "      <td>2</td>\n",
       "      <td>0</td>\n",
       "      <td>1</td>\n",
       "    </tr>\n",
       "    <tr>\n",
       "      <th>2</th>\n",
       "      <td>0</td>\n",
       "      <td>59</td>\n",
       "      <td>0</td>\n",
       "      <td>2</td>\n",
       "      <td>1</td>\n",
       "      <td>0</td>\n",
       "      <td>0</td>\n",
       "    </tr>\n",
       "    <tr>\n",
       "      <th>3</th>\n",
       "      <td>1</td>\n",
       "      <td>63</td>\n",
       "      <td>1</td>\n",
       "      <td>1</td>\n",
       "      <td>1</td>\n",
       "      <td>1</td>\n",
       "      <td>0</td>\n",
       "    </tr>\n",
       "    <tr>\n",
       "      <th>4</th>\n",
       "      <td>0</td>\n",
       "      <td>63</td>\n",
       "      <td>0</td>\n",
       "      <td>1</td>\n",
       "      <td>1</td>\n",
       "      <td>0</td>\n",
       "      <td>0</td>\n",
       "    </tr>\n",
       "  </tbody>\n",
       "</table>\n",
       "</div>"
      ],
      "text/plain": [
       "   GENDER  AGE  SMOKING  FATIGUE   ALLERGY   ALCOHOL CONSUMING  LUNG_CANCER\n",
       "0       1   69        0         2         1                  1            1\n",
       "1       1   74        1         2         2                  0            1\n",
       "2       0   59        0         2         1                  0            0\n",
       "3       1   63        1         1         1                  1            0\n",
       "4       0   63        0         1         1                  0            0"
      ]
     },
     "execution_count": 9,
     "metadata": {},
     "output_type": "execute_result"
    }
   ],
   "source": [
    "df_lung_cancer.head()"
   ]
  },
  {
   "cell_type": "code",
   "execution_count": 10,
   "id": "50ea95c4",
   "metadata": {},
   "outputs": [],
   "source": [
    "df_obesity = pd.read_csv('./obesity_cleaned.csv')"
   ]
  },
  {
   "cell_type": "code",
   "execution_count": 11,
   "id": "2e13f001",
   "metadata": {},
   "outputs": [
    {
     "data": {
      "text/html": [
       "<div>\n",
       "<style scoped>\n",
       "    .dataframe tbody tr th:only-of-type {\n",
       "        vertical-align: middle;\n",
       "    }\n",
       "\n",
       "    .dataframe tbody tr th {\n",
       "        vertical-align: top;\n",
       "    }\n",
       "\n",
       "    .dataframe thead th {\n",
       "        text-align: right;\n",
       "    }\n",
       "</style>\n",
       "<table border=\"1\" class=\"dataframe\">\n",
       "  <thead>\n",
       "    <tr style=\"text-align: right;\">\n",
       "      <th></th>\n",
       "      <th>Age</th>\n",
       "      <th>Gender</th>\n",
       "      <th>Height</th>\n",
       "      <th>Weight</th>\n",
       "      <th>BMI</th>\n",
       "      <th>Label</th>\n",
       "    </tr>\n",
       "  </thead>\n",
       "  <tbody>\n",
       "    <tr>\n",
       "      <th>0</th>\n",
       "      <td>25</td>\n",
       "      <td>1</td>\n",
       "      <td>175</td>\n",
       "      <td>80</td>\n",
       "      <td>25.3</td>\n",
       "      <td>1</td>\n",
       "    </tr>\n",
       "    <tr>\n",
       "      <th>1</th>\n",
       "      <td>30</td>\n",
       "      <td>0</td>\n",
       "      <td>160</td>\n",
       "      <td>60</td>\n",
       "      <td>22.5</td>\n",
       "      <td>1</td>\n",
       "    </tr>\n",
       "    <tr>\n",
       "      <th>2</th>\n",
       "      <td>35</td>\n",
       "      <td>1</td>\n",
       "      <td>180</td>\n",
       "      <td>90</td>\n",
       "      <td>27.3</td>\n",
       "      <td>2</td>\n",
       "    </tr>\n",
       "    <tr>\n",
       "      <th>3</th>\n",
       "      <td>40</td>\n",
       "      <td>0</td>\n",
       "      <td>150</td>\n",
       "      <td>50</td>\n",
       "      <td>20.0</td>\n",
       "      <td>0</td>\n",
       "    </tr>\n",
       "    <tr>\n",
       "      <th>4</th>\n",
       "      <td>45</td>\n",
       "      <td>1</td>\n",
       "      <td>190</td>\n",
       "      <td>100</td>\n",
       "      <td>31.2</td>\n",
       "      <td>3</td>\n",
       "    </tr>\n",
       "  </tbody>\n",
       "</table>\n",
       "</div>"
      ],
      "text/plain": [
       "   Age  Gender  Height  Weight   BMI  Label\n",
       "0   25       1     175      80  25.3      1\n",
       "1   30       0     160      60  22.5      1\n",
       "2   35       1     180      90  27.3      2\n",
       "3   40       0     150      50  20.0      0\n",
       "4   45       1     190     100  31.2      3"
      ]
     },
     "execution_count": 11,
     "metadata": {},
     "output_type": "execute_result"
    }
   ],
   "source": [
    "df_obesity.head()"
   ]
  },
  {
   "cell_type": "code",
   "execution_count": 12,
   "id": "335dd422",
   "metadata": {},
   "outputs": [],
   "source": [
    "from sklearn.model_selection import train_test_split"
   ]
  },
  {
   "cell_type": "code",
   "execution_count": 13,
   "id": "30e84b2d",
   "metadata": {},
   "outputs": [
    {
     "name": "stdout",
     "output_type": "stream",
     "text": [
      "(4981,) (4981, 4)\n"
     ]
    }
   ],
   "source": [
    "y_brain_stroke = df_brain_stroke['stroke']\n",
    "\n",
    "X_brain_stroke = df_brain_stroke.drop('stroke', axis = 1)\n",
    "print(y_brain_stroke.shape, X_brain_stroke.shape)"
   ]
  },
  {
   "cell_type": "code",
   "execution_count": 14,
   "id": "2236cce5",
   "metadata": {},
   "outputs": [],
   "source": [
    "X_train_brain_stroke, X_test_brain_stroke, y_train_brain_stroke, y_test_brain_stroke, = train_test_split(X_brain_stroke, y_brain_stroke, test_size = 0.20, random_state = 42)"
   ]
  },
  {
   "cell_type": "code",
   "execution_count": 15,
   "id": "b4d26bdd",
   "metadata": {},
   "outputs": [
    {
     "name": "stdout",
     "output_type": "stream",
     "text": [
      "(70000,) (70000, 7)\n"
     ]
    }
   ],
   "source": [
    "y_cardiovascular_disease = df_cardiovascular_disease['cardio']\n",
    "\n",
    "X_cardiovascular_disease = df_cardiovascular_disease.drop('cardio', axis = 1)\n",
    "print(y_cardiovascular_disease.shape, X_cardiovascular_disease.shape)"
   ]
  },
  {
   "cell_type": "code",
   "execution_count": 16,
   "id": "926f1cfb",
   "metadata": {},
   "outputs": [],
   "source": [
    "X_train_cardiovascular_disease, X_test_cardiovascular_disease, y_train_cardiovascular_disease, y_test_cardiovascular_disease, = train_test_split(X_cardiovascular_disease, y_cardiovascular_disease, test_size = 0.20, random_state = 42)"
   ]
  },
  {
   "cell_type": "code",
   "execution_count": 17,
   "id": "1d30ceb6",
   "metadata": {},
   "outputs": [
    {
     "name": "stdout",
     "output_type": "stream",
     "text": [
      "(309,) (309, 4)\n"
     ]
    }
   ],
   "source": [
    "y_lung_cancer = df_lung_cancer['LUNG_CANCER']\n",
    "\n",
    "X_lung_cancer = df_lung_cancer[['GENDER', 'SMOKING', 'ALCOHOL CONSUMING', 'LUNG_CANCER']]\n",
    "print(y_lung_cancer.shape, X_lung_cancer.shape)"
   ]
  },
  {
   "cell_type": "code",
   "execution_count": 18,
   "id": "cd03e5fd",
   "metadata": {},
   "outputs": [],
   "source": [
    "X_train_lung_cancer, X_test_lung_cancer, y_train_lung_cancer, y_test_lung_cancer, = train_test_split(X_lung_cancer, y_lung_cancer, test_size = 0.20, random_state = 42)"
   ]
  },
  {
   "cell_type": "code",
   "execution_count": 19,
   "id": "0150cbd8",
   "metadata": {},
   "outputs": [
    {
     "name": "stdout",
     "output_type": "stream",
     "text": [
      "(108,) (108, 5)\n"
     ]
    }
   ],
   "source": [
    "y_obesity = df_obesity['Label']\n",
    "\n",
    "X_obesity = df_obesity.drop('Label', axis = 1)\n",
    "print(y_obesity.shape, X_obesity.shape)"
   ]
  },
  {
   "cell_type": "code",
   "execution_count": 20,
   "id": "f1c06d05",
   "metadata": {},
   "outputs": [],
   "source": [
    "X_train_obesity, X_test_obesity, y_train_obesity, y_test_obesity, = train_test_split(X_obesity, y_obesity, test_size = 0.20, random_state = 42)"
   ]
  },
  {
   "cell_type": "code",
   "execution_count": 21,
   "id": "30fc39b7",
   "metadata": {},
   "outputs": [],
   "source": [
    "from sklearn.model_selection import cross_val_score, RandomizedSearchCV\n",
    "from sklearn.metrics import accuracy_score, confusion_matrix, f1_score\n",
    "import warnings\n",
    "warnings.filterwarnings('ignore')"
   ]
  },
  {
   "cell_type": "markdown",
   "id": "f1fa4127",
   "metadata": {},
   "source": [
    "## Decision Tree Classifier"
   ]
  },
  {
   "cell_type": "code",
   "execution_count": 22,
   "id": "81e48120",
   "metadata": {},
   "outputs": [],
   "source": [
    "from sklearn.tree import DecisionTreeClassifier\n",
    "\n",
    "tree = DecisionTreeClassifier()"
   ]
  },
  {
   "cell_type": "code",
   "execution_count": 23,
   "id": "e629cc45",
   "metadata": {},
   "outputs": [],
   "source": [
    "tree_params = {\n",
    "    'max_depth': [None, 1, 2, 3, 4, 5],\n",
    "    'criterion': ['gini', 'entropy'],\n",
    "    'splitter': ['best', 'random'],\n",
    "    'min_samples_split': [2, 5, 10],\n",
    "    'min_samples_leaf': [1, 2, 4],\n",
    "    'max_features': ['auto', 'sqrt', 'log2', None],\n",
    "    'class_weight': [None, 'balanced'],\n",
    "    'random_state': [42]\n",
    "}"
   ]
  },
  {
   "cell_type": "code",
   "execution_count": 148,
   "id": "b3397692",
   "metadata": {},
   "outputs": [
    {
     "name": "stdout",
     "output_type": "stream",
     "text": [
      "[0.48752254 0.48752254 0.40982097 0.48725843 0.4967495  0.53934707\n",
      " 0.4873244  0.56663872 0.51294593 0.55010611]\n"
     ]
    }
   ],
   "source": [
    "search_obj = RandomizedSearchCV(tree, param_distributions = tree_params, cv = 5, scoring = 'f1_macro')\n",
    "fit_obj = search_obj.fit(X_train_brain_stroke, y_train_brain_stroke)\n",
    "print(fit_obj.cv_results_['mean_test_score'])\n",
    "model_tree_brain_stroke = fit_obj.best_estimator_"
   ]
  },
  {
   "cell_type": "code",
   "execution_count": 149,
   "id": "b4b34b40",
   "metadata": {},
   "outputs": [
    {
     "name": "stdout",
     "output_type": "stream",
     "text": [
      "Train:  0.8727409638554217\n",
      "Test:  0.8635907723169508\n"
     ]
    }
   ],
   "source": [
    "model_tree_brain_stroke.fit(X_train_brain_stroke, y_train_brain_stroke)\n",
    "print(\"Train: \", model_tree_brain_stroke.score(X_train_brain_stroke, y_train_brain_stroke))\n",
    "print(\"Test: \", model_tree_brain_stroke.score(X_test_brain_stroke, y_test_brain_stroke))"
   ]
  },
  {
   "cell_type": "code",
   "execution_count": 150,
   "id": "9008f4e1",
   "metadata": {},
   "outputs": [],
   "source": [
    "y_pred_tree_brain_stroke = model_tree_brain_stroke.predict(X_test_brain_stroke)"
   ]
  },
  {
   "cell_type": "code",
   "execution_count": 151,
   "id": "2a841b7c",
   "metadata": {},
   "outputs": [],
   "source": [
    "accuracy = accuracy_score(y_test_brain_stroke, y_pred_tree_brain_stroke)\n",
    "conf_matrix = confusion_matrix(y_test_brain_stroke, y_pred_tree_brain_stroke)\n",
    "f1 = f1_score(y_test_brain_stroke, y_pred_tree_brain_stroke, average='weighted')"
   ]
  },
  {
   "cell_type": "code",
   "execution_count": 152,
   "id": "296ed0c0",
   "metadata": {},
   "outputs": [
    {
     "name": "stdout",
     "output_type": "stream",
     "text": [
      "Accuracy: 0.8635907723169508\n",
      "F1 Score: 0.8847930169289691\n",
      "Confusion Matrix:\n",
      " [[847  96]\n",
      " [ 40  14]]\n"
     ]
    }
   ],
   "source": [
    "print(\"Accuracy:\", accuracy)\n",
    "print(\"F1 Score:\", f1)\n",
    "print(\"Confusion Matrix:\\n\", conf_matrix)"
   ]
  },
  {
   "cell_type": "code",
   "execution_count": 153,
   "id": "2dee615a",
   "metadata": {},
   "outputs": [
    {
     "name": "stdout",
     "output_type": "stream",
     "text": [
      "[0.46311536 0.5896756  0.55135787 0.58958605 0.55338964 0.55960274\n",
      " 0.5608426  0.50161138 0.46311536 0.54394027]\n"
     ]
    }
   ],
   "source": [
    "search_obj = RandomizedSearchCV(tree, param_distributions = tree_params, cv = 5, scoring = 'f1_macro')\n",
    "fit_obj = search_obj.fit(X_train_cardiovascular_disease, y_train_cardiovascular_disease)\n",
    "print(fit_obj.cv_results_['mean_test_score'])\n",
    "model_tree_cardiovascular_disease = fit_obj.best_estimator_"
   ]
  },
  {
   "cell_type": "code",
   "execution_count": 154,
   "id": "79311d66",
   "metadata": {},
   "outputs": [
    {
     "name": "stdout",
     "output_type": "stream",
     "text": [
      "Train:  0.5927142857142857\n",
      "Test:  0.5928571428571429\n"
     ]
    }
   ],
   "source": [
    "model_tree_cardiovascular_disease.fit(X_train_cardiovascular_disease, y_train_cardiovascular_disease)\n",
    "print(\"Train: \", model_tree_cardiovascular_disease.score(X_train_cardiovascular_disease, y_train_cardiovascular_disease))\n",
    "print(\"Test: \", model_tree_cardiovascular_disease.score(X_test_cardiovascular_disease, y_test_cardiovascular_disease))"
   ]
  },
  {
   "cell_type": "code",
   "execution_count": 155,
   "id": "9cf117a8",
   "metadata": {},
   "outputs": [
    {
     "name": "stdout",
     "output_type": "stream",
     "text": [
      "[1.         1.         1.         1.         1.         1.\n",
      " 0.45953177 1.         1.         1.        ]\n"
     ]
    }
   ],
   "source": [
    "search_obj = RandomizedSearchCV(tree, param_distributions = tree_params, cv = 5, scoring = 'f1_macro')\n",
    "fit_obj = search_obj.fit(X_train_lung_cancer, y_train_lung_cancer)\n",
    "print(fit_obj.cv_results_['mean_test_score'])\n",
    "model_tree_lung_cancer = fit_obj.best_estimator_"
   ]
  },
  {
   "cell_type": "code",
   "execution_count": 156,
   "id": "6317fa06",
   "metadata": {},
   "outputs": [],
   "source": [
    "y_pred_tree_cardiovascular_disease = model_tree_cardiovascular_disease.predict(X_test_cardiovascular_disease)"
   ]
  },
  {
   "cell_type": "code",
   "execution_count": 157,
   "id": "a9e351aa",
   "metadata": {},
   "outputs": [],
   "source": [
    "accuracy = accuracy_score(y_test_cardiovascular_disease, y_pred_tree_cardiovascular_disease)\n",
    "conf_matrix = confusion_matrix(y_test_cardiovascular_disease, y_pred_tree_cardiovascular_disease)\n",
    "f1 = f1_score(y_test_cardiovascular_disease, y_pred_tree_cardiovascular_disease, average='weighted')"
   ]
  },
  {
   "cell_type": "code",
   "execution_count": 158,
   "id": "76c8fa55",
   "metadata": {},
   "outputs": [
    {
     "name": "stdout",
     "output_type": "stream",
     "text": [
      "Accuracy: 0.5928571428571429\n",
      "F1 Score: 0.59001397357275\n",
      "Confusion Matrix:\n",
      " [[4727 2261]\n",
      " [3439 3573]]\n"
     ]
    }
   ],
   "source": [
    "print(\"Accuracy:\", accuracy)\n",
    "print(\"F1 Score:\", f1)\n",
    "print(\"Confusion Matrix:\\n\", conf_matrix)"
   ]
  },
  {
   "cell_type": "code",
   "execution_count": 159,
   "id": "f20c78fb",
   "metadata": {},
   "outputs": [
    {
     "name": "stdout",
     "output_type": "stream",
     "text": [
      "Train:  1.0\n",
      "Test:  1.0\n"
     ]
    }
   ],
   "source": [
    "model_tree_lung_cancer.fit(X_train_lung_cancer, y_train_lung_cancer)\n",
    "print(\"Train: \", model_tree_lung_cancer.score(X_train_lung_cancer, y_train_lung_cancer))\n",
    "print(\"Test: \", model_tree_lung_cancer.score(X_test_lung_cancer, y_test_lung_cancer))"
   ]
  },
  {
   "cell_type": "code",
   "execution_count": 160,
   "id": "0ab87b96",
   "metadata": {},
   "outputs": [],
   "source": [
    "y_pred_tree_lung_cancer = model_tree_lung_cancer.predict(X_test_lung_cancer)"
   ]
  },
  {
   "cell_type": "code",
   "execution_count": 161,
   "id": "da59eff3",
   "metadata": {},
   "outputs": [],
   "source": [
    "accuracy = accuracy_score(y_test_lung_cancer, y_pred_tree_lung_cancer)\n",
    "conf_matrix = confusion_matrix(y_test_lung_cancer, y_pred_tree_lung_cancer)\n",
    "f1 = f1_score(y_test_lung_cancer, y_pred_tree_lung_cancer, average='weighted')"
   ]
  },
  {
   "cell_type": "code",
   "execution_count": 162,
   "id": "e4481f0d",
   "metadata": {},
   "outputs": [
    {
     "name": "stdout",
     "output_type": "stream",
     "text": [
      "Accuracy: 1.0\n",
      "F1 Score: 1.0\n",
      "Confusion Matrix:\n",
      " [[ 2  0]\n",
      " [ 0 60]]\n"
     ]
    }
   ],
   "source": [
    "print(\"Accuracy:\", accuracy)\n",
    "print(\"F1 Score:\", f1)\n",
    "print(\"Confusion Matrix:\\n\", conf_matrix)"
   ]
  },
  {
   "cell_type": "code",
   "execution_count": 24,
   "id": "770e2c2a",
   "metadata": {},
   "outputs": [
    {
     "name": "stdout",
     "output_type": "stream",
     "text": [
      "[0.65805556 0.66088819 0.7759127  0.29463203 0.67029295 0.92690458\n",
      "        nan 0.29463203 0.81763709 0.81088638]\n"
     ]
    }
   ],
   "source": [
    "search_obj = RandomizedSearchCV(tree, param_distributions = tree_params, cv = 5, scoring = 'f1_macro')\n",
    "fit_obj = search_obj.fit(X_train_obesity, y_train_obesity)\n",
    "print(fit_obj.cv_results_['mean_test_score'])\n",
    "model_tree_obesity = fit_obj.best_estimator_"
   ]
  },
  {
   "cell_type": "code",
   "execution_count": 25,
   "id": "32f0ccac",
   "metadata": {},
   "outputs": [
    {
     "name": "stdout",
     "output_type": "stream",
     "text": [
      "Train:  0.9186046511627907\n",
      "Test:  0.8181818181818182\n"
     ]
    }
   ],
   "source": [
    "model_tree_obesity.fit(X_train_obesity, y_train_obesity)\n",
    "print(\"Train: \", model_tree_obesity.score(X_train_obesity, y_train_obesity))\n",
    "print(\"Test: \", model_tree_obesity.score(X_test_obesity, y_test_obesity))"
   ]
  },
  {
   "cell_type": "code",
   "execution_count": 26,
   "id": "e8e89170",
   "metadata": {},
   "outputs": [],
   "source": [
    "y_pred_tree_obesity = model_tree_obesity.predict(X_test_obesity)"
   ]
  },
  {
   "cell_type": "code",
   "execution_count": 27,
   "id": "f5e9ba43",
   "metadata": {},
   "outputs": [],
   "source": [
    "accuracy = accuracy_score(y_test_obesity, y_pred_tree_obesity)\n",
    "conf_matrix = confusion_matrix(y_test_obesity, y_pred_tree_obesity)\n",
    "f1 = f1_score(y_test_obesity, y_pred_tree_obesity, average='weighted')"
   ]
  },
  {
   "cell_type": "code",
   "execution_count": 28,
   "id": "b8c46e64",
   "metadata": {},
   "outputs": [
    {
     "name": "stdout",
     "output_type": "stream",
     "text": [
      "Accuracy: 0.8181818181818182\n",
      "F1 Score: 0.8097784568372804\n",
      "Confusion Matrix:\n",
      " [[8 0 0 0]\n",
      " [1 4 1 0]\n",
      " [0 2 2 0]\n",
      " [0 0 0 4]]\n"
     ]
    }
   ],
   "source": [
    "print(\"Accuracy:\", accuracy)\n",
    "print(\"F1 Score:\", f1)\n",
    "print(\"Confusion Matrix:\\n\", conf_matrix)"
   ]
  },
  {
   "cell_type": "markdown",
   "id": "421ab8a3",
   "metadata": {},
   "source": [
    "## Random Forest"
   ]
  },
  {
   "cell_type": "code",
   "execution_count": 29,
   "id": "554465a6",
   "metadata": {},
   "outputs": [],
   "source": [
    "from sklearn.ensemble import RandomForestClassifier\n",
    "\n",
    "random_forest = RandomForestClassifier()"
   ]
  },
  {
   "cell_type": "code",
   "execution_count": 30,
   "id": "473a4944",
   "metadata": {},
   "outputs": [],
   "source": [
    "random_forest_params = {\n",
    "    'n_estimators': [50, 100, 200, 300],\n",
    "    'criterion': ['gini', 'entropy'],\n",
    "    'max_depth': [None, 10, 20, 30],\n",
    "    'min_samples_split': [2, 5, 10],\n",
    "    'min_samples_leaf': [1, 2, 4],\n",
    "    'max_features': ['auto', 'sqrt', 'log2'],\n",
    "    'bootstrap': [True, False],\n",
    "    'class_weight': [None, 'balanced'],\n",
    "    'random_state': [42]\n",
    "}"
   ]
  },
  {
   "cell_type": "code",
   "execution_count": 31,
   "id": "6b6e95fe",
   "metadata": {},
   "outputs": [
    {
     "name": "stdout",
     "output_type": "stream",
     "text": [
      "[0.49906822 0.49201719        nan        nan        nan 0.50142377\n",
      "        nan 0.56910755        nan 0.49258528]\n"
     ]
    }
   ],
   "source": [
    "search_obj = RandomizedSearchCV(random_forest, param_distributions = random_forest_params, cv = 5, scoring = 'f1_macro')\n",
    "fit_obj = search_obj.fit(X_train_brain_stroke, y_train_brain_stroke)\n",
    "print(fit_obj.cv_results_['mean_test_score'])\n",
    "model_random_forest_brain_stroke = fit_obj.best_estimator_"
   ]
  },
  {
   "cell_type": "code",
   "execution_count": 32,
   "id": "06675e8e",
   "metadata": {},
   "outputs": [
    {
     "name": "stdout",
     "output_type": "stream",
     "text": [
      "Train:  0.9723895582329317\n",
      "Test:  0.9187562688064193\n"
     ]
    }
   ],
   "source": [
    "model_random_forest_brain_stroke.fit(X_train_brain_stroke, y_train_brain_stroke)\n",
    "print(\"Train: \", model_random_forest_brain_stroke.score(X_train_brain_stroke, y_train_brain_stroke))\n",
    "print(\"Test: \", model_random_forest_brain_stroke.score(X_test_brain_stroke, y_test_brain_stroke))"
   ]
  },
  {
   "cell_type": "code",
   "execution_count": 33,
   "id": "3b900580",
   "metadata": {},
   "outputs": [],
   "source": [
    "y_pred_random_forest_brain_stroke = model_random_forest_brain_stroke.predict(X_test_brain_stroke)"
   ]
  },
  {
   "cell_type": "code",
   "execution_count": 34,
   "id": "b1c470d9",
   "metadata": {},
   "outputs": [],
   "source": [
    "accuracy = accuracy_score(y_test_brain_stroke, y_pred_random_forest_brain_stroke)\n",
    "conf_matrix = confusion_matrix(y_test_brain_stroke, y_pred_random_forest_brain_stroke)\n",
    "f1 = f1_score(y_test_brain_stroke, y_pred_random_forest_brain_stroke, average='weighted')"
   ]
  },
  {
   "cell_type": "code",
   "execution_count": 35,
   "id": "786370e2",
   "metadata": {},
   "outputs": [
    {
     "name": "stdout",
     "output_type": "stream",
     "text": [
      "Accuracy: 0.9187562688064193\n",
      "F1 Score: 0.9143852166360555\n",
      "Confusion Matrix:\n",
      " [[908  35]\n",
      " [ 46   8]]\n"
     ]
    }
   ],
   "source": [
    "print(\"Accuracy:\", accuracy)\n",
    "print(\"F1 Score:\", f1)\n",
    "print(\"Confusion Matrix:\\n\", conf_matrix)"
   ]
  },
  {
   "cell_type": "code",
   "execution_count": 36,
   "id": "b38ee9b2",
   "metadata": {},
   "outputs": [
    {
     "name": "stdout",
     "output_type": "stream",
     "text": [
      "[       nan 0.6064683         nan 0.59877655        nan 0.59695888\n",
      " 0.62232656 0.60644446 0.60063078        nan]\n"
     ]
    }
   ],
   "source": [
    "search_obj = RandomizedSearchCV(random_forest, param_distributions = random_forest_params, cv = 5, scoring = 'f1_macro')\n",
    "fit_obj = search_obj.fit(X_train_cardiovascular_disease, y_train_cardiovascular_disease)\n",
    "print(fit_obj.cv_results_['mean_test_score'])\n",
    "model_random_forest_cardiovascular_disease = fit_obj.best_estimator_"
   ]
  },
  {
   "cell_type": "code",
   "execution_count": 37,
   "id": "7fb1af07",
   "metadata": {},
   "outputs": [
    {
     "name": "stdout",
     "output_type": "stream",
     "text": [
      "Train:  0.6469464285714286\n",
      "Test:  0.6304285714285714\n"
     ]
    }
   ],
   "source": [
    "model_random_forest_cardiovascular_disease.fit(X_train_cardiovascular_disease, y_train_cardiovascular_disease)\n",
    "print(\"Train: \", model_random_forest_cardiovascular_disease.score(X_train_cardiovascular_disease, y_train_cardiovascular_disease))\n",
    "print(\"Test: \", model_random_forest_cardiovascular_disease.score(X_test_cardiovascular_disease, y_test_cardiovascular_disease))"
   ]
  },
  {
   "cell_type": "code",
   "execution_count": 38,
   "id": "aef92d4e",
   "metadata": {},
   "outputs": [],
   "source": [
    "y_pred_random_forest_cardiovascular_disease = model_random_forest_cardiovascular_disease.predict(X_test_cardiovascular_disease)"
   ]
  },
  {
   "cell_type": "code",
   "execution_count": 39,
   "id": "b52eb55b",
   "metadata": {},
   "outputs": [],
   "source": [
    "accuracy = accuracy_score(y_test_cardiovascular_disease, y_pred_random_forest_cardiovascular_disease)\n",
    "conf_matrix = confusion_matrix(y_test_cardiovascular_disease, y_pred_random_forest_cardiovascular_disease)\n",
    "f1 = f1_score(y_test_cardiovascular_disease, y_pred_random_forest_cardiovascular_disease, average='weighted')"
   ]
  },
  {
   "cell_type": "code",
   "execution_count": 40,
   "id": "ac0ab057",
   "metadata": {},
   "outputs": [
    {
     "name": "stdout",
     "output_type": "stream",
     "text": [
      "Accuracy: 0.6304285714285714\n",
      "F1 Score: 0.6302745412000708\n",
      "Confusion Matrix:\n",
      " [[4264 2724]\n",
      " [2450 4562]]\n"
     ]
    }
   ],
   "source": [
    "print(\"Accuracy:\", accuracy)\n",
    "print(\"F1 Score:\", f1)\n",
    "print(\"Confusion Matrix:\\n\", conf_matrix)"
   ]
  },
  {
   "cell_type": "code",
   "execution_count": 41,
   "id": "e5ebf54e",
   "metadata": {},
   "outputs": [
    {
     "name": "stdout",
     "output_type": "stream",
     "text": [
      "[nan  1. nan  1.  1.  1.  1.  1.  1. nan]\n"
     ]
    }
   ],
   "source": [
    "search_obj = RandomizedSearchCV(random_forest, param_distributions = random_forest_params, cv = 5, scoring = 'f1_macro')\n",
    "fit_obj = search_obj.fit(X_train_lung_cancer, y_train_lung_cancer)\n",
    "print(fit_obj.cv_results_['mean_test_score'])\n",
    "model_random_forest_lung_cancer = fit_obj.best_estimator_"
   ]
  },
  {
   "cell_type": "code",
   "execution_count": 42,
   "id": "222181d7",
   "metadata": {},
   "outputs": [
    {
     "name": "stdout",
     "output_type": "stream",
     "text": [
      "Train:  1.0\n",
      "Test:  1.0\n"
     ]
    }
   ],
   "source": [
    "model_random_forest_lung_cancer.fit(X_train_lung_cancer, y_train_lung_cancer)\n",
    "print(\"Train: \", model_random_forest_lung_cancer.score(X_train_lung_cancer, y_train_lung_cancer))\n",
    "print(\"Test: \", model_random_forest_lung_cancer.score(X_test_lung_cancer, y_test_lung_cancer))"
   ]
  },
  {
   "cell_type": "code",
   "execution_count": 43,
   "id": "32ed159d",
   "metadata": {},
   "outputs": [],
   "source": [
    "y_pred_random_forest_lung_cancer = model_random_forest_lung_cancer.predict(X_test_lung_cancer)"
   ]
  },
  {
   "cell_type": "code",
   "execution_count": 44,
   "id": "470e4ba1",
   "metadata": {},
   "outputs": [],
   "source": [
    "accuracy = accuracy_score(y_test_lung_cancer, y_pred_random_forest_lung_cancer)\n",
    "conf_matrix = confusion_matrix(y_test_lung_cancer, y_pred_random_forest_lung_cancer)\n",
    "f1 = f1_score(y_test_lung_cancer, y_pred_random_forest_lung_cancer, average='weighted')"
   ]
  },
  {
   "cell_type": "code",
   "execution_count": 45,
   "id": "8a5825be",
   "metadata": {},
   "outputs": [
    {
     "name": "stdout",
     "output_type": "stream",
     "text": [
      "Accuracy: 1.0\n",
      "F1 Score: 1.0\n",
      "Confusion Matrix:\n",
      " [[ 2  0]\n",
      " [ 0 60]]\n"
     ]
    }
   ],
   "source": [
    "print(\"Accuracy:\", accuracy)\n",
    "print(\"F1 Score:\", f1)\n",
    "print(\"Confusion Matrix:\\n\", conf_matrix)"
   ]
  },
  {
   "cell_type": "code",
   "execution_count": 46,
   "id": "457df925",
   "metadata": {},
   "outputs": [
    {
     "name": "stdout",
     "output_type": "stream",
     "text": [
      "[0.95230159 0.95230159        nan 0.95230159 0.95230159 0.92849206\n",
      "        nan        nan 0.95230159 0.95230159]\n"
     ]
    }
   ],
   "source": [
    "search_obj = RandomizedSearchCV(random_forest, param_distributions = random_forest_params, cv = 5, scoring = 'f1_macro')\n",
    "fit_obj = search_obj.fit(X_train_obesity, y_train_obesity)\n",
    "print(fit_obj.cv_results_['mean_test_score'])\n",
    "model_random_forest_obesity = fit_obj.best_estimator_"
   ]
  },
  {
   "cell_type": "code",
   "execution_count": 47,
   "id": "e9e1e752",
   "metadata": {},
   "outputs": [
    {
     "name": "stdout",
     "output_type": "stream",
     "text": [
      "Train:  0.9883720930232558\n",
      "Test:  0.9090909090909091\n"
     ]
    }
   ],
   "source": [
    "model_random_forest_obesity.fit(X_train_obesity, y_train_obesity)\n",
    "print(\"Train: \", model_random_forest_obesity.score(X_train_obesity, y_train_obesity))\n",
    "print(\"Test: \", model_random_forest_obesity.score(X_test_obesity, y_test_obesity))"
   ]
  },
  {
   "cell_type": "code",
   "execution_count": 48,
   "id": "50b2f29f",
   "metadata": {},
   "outputs": [],
   "source": [
    "y_pred_random_forest_obesity = model_random_forest_obesity.predict(X_test_obesity)"
   ]
  },
  {
   "cell_type": "code",
   "execution_count": 49,
   "id": "e4112e65",
   "metadata": {},
   "outputs": [],
   "source": [
    "accuracy = accuracy_score(y_test_obesity, y_pred_random_forest_obesity)\n",
    "conf_matrix = confusion_matrix(y_test_obesity, y_pred_random_forest_obesity)\n",
    "f1 = f1_score(y_test_obesity, y_pred_random_forest_obesity, average='weighted')"
   ]
  },
  {
   "cell_type": "code",
   "execution_count": 50,
   "id": "22366e7f",
   "metadata": {},
   "outputs": [
    {
     "name": "stdout",
     "output_type": "stream",
     "text": [
      "Accuracy: 0.9090909090909091\n",
      "F1 Score: 0.9090909090909091\n",
      "Confusion Matrix:\n",
      " [[8 0 0 0]\n",
      " [0 4 2 0]\n",
      " [0 0 4 0]\n",
      " [0 0 0 4]]\n"
     ]
    }
   ],
   "source": [
    "print(\"Accuracy:\", accuracy)\n",
    "print(\"F1 Score:\", f1)\n",
    "print(\"Confusion Matrix:\\n\", conf_matrix)"
   ]
  },
  {
   "cell_type": "code",
   "execution_count": 51,
   "id": "ccfa9377",
   "metadata": {},
   "outputs": [],
   "source": [
    "import joblib"
   ]
  },
  {
   "cell_type": "code",
   "execution_count": 52,
   "id": "57452936",
   "metadata": {},
   "outputs": [
    {
     "data": {
      "text/plain": [
       "['brain_stroke.pkl']"
      ]
     },
     "execution_count": 52,
     "metadata": {},
     "output_type": "execute_result"
    }
   ],
   "source": [
    "brain_stroke_file = 'brain_stroke.pkl'\n",
    "joblib.dump(model_random_forest_brain_stroke, brain_stroke_file)"
   ]
  },
  {
   "cell_type": "code",
   "execution_count": 53,
   "id": "d81d0725",
   "metadata": {},
   "outputs": [
    {
     "data": {
      "text/plain": [
       "['cardiovascular_disease.pkl']"
      ]
     },
     "execution_count": 53,
     "metadata": {},
     "output_type": "execute_result"
    }
   ],
   "source": [
    "cardiovascular_disease_file = 'cardiovascular_disease.pkl'\n",
    "joblib.dump(model_random_forest_cardiovascular_disease, cardiovascular_disease_file)"
   ]
  },
  {
   "cell_type": "code",
   "execution_count": 54,
   "id": "018bbadc",
   "metadata": {},
   "outputs": [
    {
     "data": {
      "text/plain": [
       "['lung_cancer.pkl']"
      ]
     },
     "execution_count": 54,
     "metadata": {},
     "output_type": "execute_result"
    }
   ],
   "source": [
    "lung_cancer_file = 'lung_cancer.pkl'\n",
    "joblib.dump(model_random_forest_lung_cancer, lung_cancer_file)"
   ]
  },
  {
   "cell_type": "code",
   "execution_count": 55,
   "id": "099dccba",
   "metadata": {},
   "outputs": [
    {
     "data": {
      "text/plain": [
       "['obesity.pkl']"
      ]
     },
     "execution_count": 55,
     "metadata": {},
     "output_type": "execute_result"
    }
   ],
   "source": [
    "obesity_file = 'obesity.pkl'\n",
    "joblib.dump(model_tree_obesity, obesity_file)"
   ]
  },
  {
   "cell_type": "code",
   "execution_count": null,
   "id": "293001db",
   "metadata": {},
   "outputs": [],
   "source": []
  }
 ],
 "metadata": {
  "kernelspec": {
   "display_name": "Python 3 (ipykernel)",
   "language": "python",
   "name": "python3"
  },
  "language_info": {
   "codemirror_mode": {
    "name": "ipython",
    "version": 3
   },
   "file_extension": ".py",
   "mimetype": "text/x-python",
   "name": "python",
   "nbconvert_exporter": "python",
   "pygments_lexer": "ipython3",
   "version": "3.11.7"
  }
 },
 "nbformat": 4,
 "nbformat_minor": 5
}
